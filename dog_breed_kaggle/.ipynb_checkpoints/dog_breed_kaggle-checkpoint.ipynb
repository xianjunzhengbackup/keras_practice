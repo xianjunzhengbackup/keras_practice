{
 "cells": [
  {
   "cell_type": "code",
   "execution_count": 1,
   "metadata": {
    "_cell_guid": "b1076dfc-b9ad-4769-8c92-a6c4dae69d19",
    "_uuid": "8f2839f25d086af736a60e9eeb907d3b93b6e0e5"
   },
   "outputs": [
    {
     "name": "stdout",
     "output_type": "stream",
     "text": [
      "['test', 'labels.csv', 'train']\n"
     ]
    }
   ],
   "source": [
    "# This Python 3 environment comes with many helpful analytics libraries installed\n",
    "# It is defined by the kaggle/python docker image: https://github.com/kaggle/docker-python\n",
    "# For example, here's several helpful packages to load in \n",
    "\n",
    "import numpy as np # linear algebra\n",
    "import pandas as pd # data processing, CSV file I/O (e.g. pd.read_csv)\n",
    "\n",
    "# Input data files are available in the \"../input/\" directory.\n",
    "# For example, running this (by clicking run or pressing Shift+Enter) will list the files in the input directory\n",
    "\n",
    "import os\n",
    "print(os.listdir(\"./data\"))\n",
    "\n",
    "# Any results you write to the current directory are saved as output."
   ]
  },
  {
   "cell_type": "code",
   "execution_count": 3,
   "metadata": {},
   "outputs": [],
   "source": [
    "from distutils.version import LooseVersion\n",
    "import warnings"
   ]
  },
  {
   "cell_type": "code",
   "execution_count": null,
   "metadata": {
    "_cell_guid": "32e89bdd-a51a-49a0-be36-9b6e8f0bfd4e",
    "_uuid": "def0e6f95ef0704ad8ae1bfcf7054feb9c8ba8e4"
   },
   "outputs": [],
   "source": [
    "\n",
    "from distutils.version import LooseVersion\n",
    "import warnings\n",
    "import tensorflow as tf\n",
    "\n",
    "# Check TensorFlow Version\n",
    "assert LooseVersion(tf.__version__) >= LooseVersion('1.0'), 'Please use TensorFlow version 1.0 or newer'\n",
    "print('TensorFlow Version: {}'.format(tf.__version__))\n",
    "\n",
    "# Check for a GPU\n",
    "if not tf.test.gpu_device_name():\n",
    "    warnings.warn('No GPU found. Please use a GPU to train your neural network.')\n",
    "else:\n",
    "    print('Default GPU Device: {}'.format(tf.test.gpu_device_name()))"
   ]
  },
  {
   "cell_type": "code",
   "execution_count": null,
   "metadata": {
    "_cell_guid": "79c7e3d0-c299-4dcb-8224-4455121ee9b0",
    "_uuid": "d629ff2d2480ee46fbb7e2d37f6b5fab8052498a",
    "collapsed": true
   },
   "outputs": [],
   "source": [
    "from tqdm import tqdm\n",
    "import numpy as np\n",
    "import pandas as pd\n",
    "import time\n",
    "import matplotlib.pyplot as plt\n",
    "import os\n",
    "import cv2\n",
    "import random"
   ]
  },
  {
   "cell_type": "code",
   "execution_count": null,
   "metadata": {
    "_cell_guid": "e82126bb-c38d-446b-9f06-64df0167f484",
    "_uuid": "ad70b083b1ad253d1903fd37bcbd73272c45af88",
    "collapsed": true
   },
   "outputs": [],
   "source": [
    "path_root = '../input'\n",
    "path_train = os.path.join(path_root, 'train')\n",
    "path_test = os.path.join(path_root, 'test')\n",
    "path_labels_csv = os.path.join(path_root, 'labels.csv')\n",
    "path_result_csv = os.path.join(path_root, 'sample_submission.csv')\n",
    "\n",
    "len_train = len(os.listdir(path_train))\n",
    "len_test = len(os.listdir(path_test))"
   ]
  },
  {
   "cell_type": "code",
   "execution_count": null,
   "metadata": {
    "_cell_guid": "d254454c-171d-4245-8867-ba5666f799e6",
    "_uuid": "4cb4f50ee569910ac29ddcf7ab8d7a0a835de5b8",
    "collapsed": true
   },
   "outputs": [],
   "source": [
    "labels = pd.read_csv(path_labels_csv)\n",
    "print(labels.head(5))\n",
    "\n",
    "breed = list(set(labels['breed']))\n",
    "n_classes = len(breed)\n",
    "print(n_classes, len(os.listdir(path_train)))\n",
    "\n",
    "labels.shape"
   ]
  },
  {
   "cell_type": "code",
   "execution_count": null,
   "metadata": {
    "_cell_guid": "3e8e3c09-2f75-4d57-9f96-b62d9ff66fca",
    "_uuid": "ba96ddfab7faee418adb061bd41b64350f6576a3",
    "collapsed": true
   },
   "outputs": [],
   "source": [
    "class_to_num = dict(zip(breed, range(n_classes)))\n",
    "num_to_class = dict(zip(range(n_classes), breed))"
   ]
  },
  {
   "cell_type": "code",
   "execution_count": null,
   "metadata": {
    "_cell_guid": "ccda6814-fade-4342-acbd-8d6f755a3cba",
    "_uuid": "296a860e6c74dcdba16c8ed3f0d366dcdc34786b",
    "collapsed": true
   },
   "outputs": [],
   "source": [
    "width = 300\n",
    "X_train = np.zeros((len_train, width, width, 3), dtype = np.uint8)\n",
    "y_train = np.zeros((len_train, n_classes))\n",
    "n = len(labels)\n",
    "\n",
    "for i in tqdm(range(n)):\n",
    "    X_train[i] = cv2.resize(cv2.imread(os.path.join(path_train, '%s.jpg' % labels['id'][i])), dsize = (width, width))\n",
    "    y_train[i][class_to_num[labels['breed'][i]]] = 1"
   ]
  },
  {
   "cell_type": "code",
   "execution_count": null,
   "metadata": {
    "_cell_guid": "4a854221-e02b-4527-9b30-f9791deccb53",
    "_uuid": "ea7dde08885c632d2301197cca2a3b94d675dcb4",
    "collapsed": true
   },
   "outputs": [],
   "source": []
  },
  {
   "cell_type": "code",
   "execution_count": null,
   "metadata": {
    "_cell_guid": "ed7261b8-73d7-468f-8f30-82b141378965",
    "_uuid": "f4cbd01b379d4dffcb1bd2cd4d2c7021dbbc91ba",
    "collapsed": true
   },
   "outputs": [],
   "source": [
    "%matplotlib inline\n",
    "%config InlineBackend.figure_format = 'retina'\n",
    "\n",
    "plt.figure(figsize = (15, 9))\n",
    "for i in range(12):\n",
    "    index = random.randint(0, len_train - 1)\n",
    "    plt.subplot(3, 4, i + 1)\n",
    "    plt.imshow(X_train[index][:, :, ::-1])\n",
    "    plt.title(num_to_class[y_train[index].argmax()])"
   ]
  },
  {
   "cell_type": "code",
   "execution_count": null,
   "metadata": {
    "_cell_guid": "98bc6bba-2ebd-4946-b0af-b7e596a3850e",
    "_uuid": "21d100ea35d3edb72ab9069ebd582ec58fa8af41",
    "collapsed": true
   },
   "outputs": [],
   "source": [
    "from keras.models import *\n",
    "from keras.layers import *"
   ]
  },
  {
   "cell_type": "code",
   "execution_count": null,
   "metadata": {
    "_cell_guid": "f295d628-35cd-4aca-bb09-861e4e06dc4b",
    "_uuid": "b88574f12ba72d0508d10ef57401e7884b83c213",
    "collapsed": true
   },
   "outputs": [],
   "source": [
    "from keras.applications import resnet50\n",
    "from keras.preprocessing import image\n",
    "from keras.applications.resnet50 import preprocess_input, decode_predictions"
   ]
  },
  {
   "cell_type": "code",
   "execution_count": null,
   "metadata": {
    "_cell_guid": "2c2b2992-8045-4b33-b4e4-ed7553e0617a",
    "_uuid": "8e4a746387168f284aead146ca71b7ee409f66b3",
    "collapsed": true
   },
   "outputs": [],
   "source": [
    "resnet_model = resnet50.ResNet50(include_top = False, weights='imagenet', input_shape = (300, 300, 3))\n",
    "    \n",
    "inputs = Input((width, width, 3))\n",
    "x = inputs\n",
    "x = resnet_model(x)\n",
    "x = GlobalAveragePooling2D()(x)\n",
    "resnet_model = Model(inputs, x)\n",
    "\n",
    "resnet_model.summary()"
   ]
  },
  {
   "cell_type": "code",
   "execution_count": null,
   "metadata": {
    "_cell_guid": "0e441bc4-ac80-42c8-bfd0-0e916f78a6fe",
    "_uuid": "7784c9e699cd5a6ae5158c1e2b4fea0aba08a2c5",
    "collapsed": true
   },
   "outputs": [],
   "source": [
    "\n",
    "features = resnet_model.predict(X_train, batch_size=64, verbose=1)"
   ]
  },
  {
   "cell_type": "code",
   "execution_count": null,
   "metadata": {
    "_cell_guid": "529e083d-06b5-45d2-8801-811b951454df",
    "_uuid": "0b207fd250b1051882cd6798d1415dbba0664fb6",
    "collapsed": true
   },
   "outputs": [],
   "source": [
    "inputs = Input(features.shape[1:])\n",
    "x = inputs\n",
    "x = Dropout(0.5)(x)\n",
    "x = Dense(n_classes, activation='softmax')(x)\n",
    "model = Model(inputs, x)\n",
    "model.compile(optimizer='adam',\n",
    "              loss='categorical_crossentropy',\n",
    "              metrics=['accuracy'])\n",
    "\n",
    "model.summary()"
   ]
  },
  {
   "cell_type": "code",
   "execution_count": null,
   "metadata": {
    "_cell_guid": "785eaba1-6d26-4603-b0c9-5d87614a5a68",
    "_uuid": "8db969cdc34a41bf5583e3cfeb4d02ad43a8606b",
    "collapsed": true
   },
   "outputs": [],
   "source": [
    "\n",
    "h = model.fit(features, y_train, batch_size=128, epochs=10, validation_split=0.1)"
   ]
  },
  {
   "cell_type": "code",
   "execution_count": null,
   "metadata": {
    "_cell_guid": "9144213b-fb3f-4c7e-b4ab-05b37c88e35a",
    "_uuid": "ff4a8f569632678d0433671e590823c082c4fee4",
    "collapsed": true
   },
   "outputs": [],
   "source": [
    "import matplotlib.pyplot as plt\n",
    "\n",
    "%matplotlib inline\n",
    "%config InlineBackend.figure_format = 'retina'\n",
    "\n",
    "plt.figure(figsize=(10, 4))\n",
    "plt.subplot(1, 2, 1)\n",
    "plt.plot(h.history['loss'])\n",
    "plt.plot(h.history['val_loss'])\n",
    "plt.legend(['loss', 'val_loss'])\n",
    "plt.ylabel('loss')\n",
    "plt.xlabel('epoch')\n",
    "\n",
    "plt.subplot(1, 2, 2)\n",
    "plt.plot(h.history['acc'])\n",
    "plt.plot(h.history['val_acc'])\n",
    "plt.legend(['acc', 'val_acc'])\n",
    "plt.ylabel('acc')\n",
    "plt.xlabel('epoch')"
   ]
  },
  {
   "cell_type": "code",
   "execution_count": null,
   "metadata": {
    "_cell_guid": "236997d8-ccf1-4540-ba74-69c231c400e3",
    "_uuid": "562abf0da83987914a4b72bf1f932103144c0fb5",
    "collapsed": true
   },
   "outputs": [],
   "source": [
    "test_data = pd.read_csv(path_result_csv)\n"
   ]
  },
  {
   "cell_type": "code",
   "execution_count": null,
   "metadata": {
    "_cell_guid": "69774e0b-c4fa-46ea-8fd8-7189bd55c2b3",
    "_uuid": "ad0940ff56697a7dcb39fe5d463f6cee81f45baf",
    "collapsed": true
   },
   "outputs": [],
   "source": [
    "n_test = len(test_data)\n",
    "X_test = np.zeros((len_test, width, width, 3), dtype=np.uint8)\n",
    "for i in tqdm(range(len_test)):\n",
    "    X_test[i] = cv2.resize(cv2.imread(os.path.join(path_test, '%s.jpg' % test_data['id'][i])), (width, width))"
   ]
  },
  {
   "cell_type": "code",
   "execution_count": null,
   "metadata": {
    "_cell_guid": "1fc5c275-72e8-4d72-aacd-1c0dff0aaf5d",
    "_uuid": "ede7b8c18a5ebabd97a7c43382011f71d5454551",
    "collapsed": true
   },
   "outputs": [],
   "source": [
    "features_test = resnet_model.predict(X_test, batch_size=64, verbose=1)"
   ]
  },
  {
   "cell_type": "code",
   "execution_count": null,
   "metadata": {
    "_cell_guid": "5212d664-ef5a-433a-a8e0-19d450c1c48e",
    "_uuid": "5cb2bb995afc9e7f41468e7639819726009d86d7",
    "collapsed": true
   },
   "outputs": [],
   "source": [
    "y_pred = model.predict(features_test, batch_size=128)\n",
    "\n",
    "for b in breed:\n",
    "    test_data[b] = y_pred[:,class_to_num[b]]\n",
    "    \n",
    "test_data.to_csv('pred.csv', index=None)"
   ]
  },
  {
   "cell_type": "code",
   "execution_count": null,
   "metadata": {
    "_cell_guid": "8d40874e-0a6f-4def-9eee-e990987f4a42",
    "_uuid": "493f87c6dc83ec3e411d990ed050e2ed721d68fc",
    "collapsed": true
   },
   "outputs": [],
   "source": []
  }
 ],
 "metadata": {
  "kernelspec": {
   "display_name": "Python 3",
   "language": "python",
   "name": "python3"
  },
  "language_info": {
   "codemirror_mode": {
    "name": "ipython",
    "version": 3
   },
   "file_extension": ".py",
   "mimetype": "text/x-python",
   "name": "python",
   "nbconvert_exporter": "python",
   "pygments_lexer": "ipython3",
   "version": "3.6.4"
  }
 },
 "nbformat": 4,
 "nbformat_minor": 1
}
