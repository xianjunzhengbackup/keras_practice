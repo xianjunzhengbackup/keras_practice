{
 "cells": [
  {
   "cell_type": "code",
   "execution_count": 1,
   "metadata": {},
   "outputs": [
    {
     "name": "stderr",
     "output_type": "stream",
     "text": [
      "Using TensorFlow backend.\n"
     ]
    }
   ],
   "source": [
    "from keras.models import Sequential\n",
    "from keras.layers import Dense,Dropout,Flatten\n",
    "from keras.layers import Conv2D,MaxPooling2D\n",
    "from keras.optimizers import SGD\n",
    "import os\n",
    "import pandas as pd\n",
    "import numpy as np\n",
    "import cv2\n",
    "from tqdm import tqdm"
   ]
  },
  {
   "cell_type": "code",
   "execution_count": 2,
   "metadata": {},
   "outputs": [],
   "source": [
    "path=f'./data'"
   ]
  },
  {
   "cell_type": "code",
   "execution_count": 3,
   "metadata": {},
   "outputs": [
    {
     "name": "stdout",
     "output_type": "stream",
     "text": [
      "labels.csv  sample_submission.csv  test  train\r\n"
     ]
    }
   ],
   "source": [
    "!ls {path}"
   ]
  },
  {
   "cell_type": "markdown",
   "metadata": {},
   "source": [
    "another way to get len <br>\n",
    "len_train=!ls {path}/train | wc -l    <br>\n",
    "\n",
    "len_train=int(str(len_train[0]))      <br>\n",
    "\n",
    "len_train"
   ]
  },
  {
   "cell_type": "code",
   "execution_count": 4,
   "metadata": {},
   "outputs": [],
   "source": [
    "len_train=len(os.listdir(f'{path}/train'))\n",
    "len_test=len(os.listdir(f'{path}/test'))"
   ]
  },
  {
   "cell_type": "code",
   "execution_count": 5,
   "metadata": {},
   "outputs": [],
   "source": [
    "labels=pd.read_csv(f'{path}/labels.csv')"
   ]
  },
  {
   "cell_type": "code",
   "execution_count": 6,
   "metadata": {},
   "outputs": [
    {
     "data": {
      "text/html": [
       "<div>\n",
       "<style scoped>\n",
       "    .dataframe tbody tr th:only-of-type {\n",
       "        vertical-align: middle;\n",
       "    }\n",
       "\n",
       "    .dataframe tbody tr th {\n",
       "        vertical-align: top;\n",
       "    }\n",
       "\n",
       "    .dataframe thead th {\n",
       "        text-align: right;\n",
       "    }\n",
       "</style>\n",
       "<table border=\"1\" class=\"dataframe\">\n",
       "  <thead>\n",
       "    <tr style=\"text-align: right;\">\n",
       "      <th></th>\n",
       "      <th>id</th>\n",
       "      <th>breed</th>\n",
       "    </tr>\n",
       "  </thead>\n",
       "  <tbody>\n",
       "    <tr>\n",
       "      <th>0</th>\n",
       "      <td>000bec180eb18c7604dcecc8fe0dba07</td>\n",
       "      <td>boston_bull</td>\n",
       "    </tr>\n",
       "    <tr>\n",
       "      <th>1</th>\n",
       "      <td>001513dfcb2ffafc82cccf4d8bbaba97</td>\n",
       "      <td>dingo</td>\n",
       "    </tr>\n",
       "    <tr>\n",
       "      <th>2</th>\n",
       "      <td>001cdf01b096e06d78e9e5112d419397</td>\n",
       "      <td>pekinese</td>\n",
       "    </tr>\n",
       "    <tr>\n",
       "      <th>3</th>\n",
       "      <td>00214f311d5d2247d5dfe4fe24b2303d</td>\n",
       "      <td>bluetick</td>\n",
       "    </tr>\n",
       "    <tr>\n",
       "      <th>4</th>\n",
       "      <td>0021f9ceb3235effd7fcde7f7538ed62</td>\n",
       "      <td>golden_retriever</td>\n",
       "    </tr>\n",
       "  </tbody>\n",
       "</table>\n",
       "</div>"
      ],
      "text/plain": [
       "                                 id             breed\n",
       "0  000bec180eb18c7604dcecc8fe0dba07       boston_bull\n",
       "1  001513dfcb2ffafc82cccf4d8bbaba97             dingo\n",
       "2  001cdf01b096e06d78e9e5112d419397          pekinese\n",
       "3  00214f311d5d2247d5dfe4fe24b2303d          bluetick\n",
       "4  0021f9ceb3235effd7fcde7f7538ed62  golden_retriever"
      ]
     },
     "execution_count": 6,
     "metadata": {},
     "output_type": "execute_result"
    }
   ],
   "source": [
    "labels.head()"
   ]
  },
  {
   "cell_type": "markdown",
   "metadata": {},
   "source": [
    "Init signature: set(self, /, *args, **kwargs)  <br>\n",
    "Docstring:     <br>\n",
    "set() -> new empty set object <br>\n",
    "set(iterable) -> new set object <br>\n",
    "\n",
    "Build an unordered collection of unique elements. <br>\n",
    "将重复项消掉"
   ]
  },
  {
   "cell_type": "code",
   "execution_count": 7,
   "metadata": {},
   "outputs": [],
   "source": [
    "classes=list(set(labels['breed']))"
   ]
  },
  {
   "cell_type": "code",
   "execution_count": 8,
   "metadata": {},
   "outputs": [],
   "source": [
    "n_class=len(classes)"
   ]
  },
  {
   "cell_type": "markdown",
   "metadata": {},
   "source": [
    "底下的这种写法实在简洁"
   ]
  },
  {
   "cell_type": "code",
   "execution_count": 9,
   "metadata": {},
   "outputs": [],
   "source": [
    "class_to_num=dict(zip(classes,range(n_class)))\n",
    "num_to_class=dict(zip(range(n_class),classes))"
   ]
  },
  {
   "cell_type": "code",
   "execution_count": 10,
   "metadata": {},
   "outputs": [
    {
     "data": {
      "text/plain": [
       "{'affenpinscher': 38,\n",
       " 'afghan_hound': 33,\n",
       " 'african_hunting_dog': 110,\n",
       " 'airedale': 37,\n",
       " 'american_staffordshire_terrier': 2,\n",
       " 'appenzeller': 60,\n",
       " 'australian_terrier': 36,\n",
       " 'basenji': 65,\n",
       " 'basset': 27,\n",
       " 'beagle': 117,\n",
       " 'bedlington_terrier': 67,\n",
       " 'bernese_mountain_dog': 95,\n",
       " 'black-and-tan_coonhound': 71,\n",
       " 'blenheim_spaniel': 13,\n",
       " 'bloodhound': 100,\n",
       " 'bluetick': 103,\n",
       " 'border_collie': 29,\n",
       " 'border_terrier': 69,\n",
       " 'borzoi': 6,\n",
       " 'boston_bull': 86,\n",
       " 'bouvier_des_flandres': 106,\n",
       " 'boxer': 108,\n",
       " 'brabancon_griffon': 101,\n",
       " 'briard': 15,\n",
       " 'brittany_spaniel': 24,\n",
       " 'bull_mastiff': 8,\n",
       " 'cairn': 83,\n",
       " 'cardigan': 112,\n",
       " 'chesapeake_bay_retriever': 11,\n",
       " 'chihuahua': 94,\n",
       " 'chow': 70,\n",
       " 'clumber': 4,\n",
       " 'cocker_spaniel': 119,\n",
       " 'collie': 18,\n",
       " 'curly-coated_retriever': 1,\n",
       " 'dandie_dinmont': 88,\n",
       " 'dhole': 20,\n",
       " 'dingo': 113,\n",
       " 'doberman': 64,\n",
       " 'english_foxhound': 81,\n",
       " 'english_setter': 115,\n",
       " 'english_springer': 39,\n",
       " 'entlebucher': 92,\n",
       " 'eskimo_dog': 52,\n",
       " 'flat-coated_retriever': 12,\n",
       " 'french_bulldog': 35,\n",
       " 'german_shepherd': 104,\n",
       " 'german_short-haired_pointer': 87,\n",
       " 'giant_schnauzer': 49,\n",
       " 'golden_retriever': 68,\n",
       " 'gordon_setter': 43,\n",
       " 'great_dane': 96,\n",
       " 'great_pyrenees': 77,\n",
       " 'greater_swiss_mountain_dog': 75,\n",
       " 'groenendael': 89,\n",
       " 'ibizan_hound': 45,\n",
       " 'irish_setter': 61,\n",
       " 'irish_terrier': 10,\n",
       " 'irish_water_spaniel': 19,\n",
       " 'irish_wolfhound': 31,\n",
       " 'italian_greyhound': 3,\n",
       " 'japanese_spaniel': 99,\n",
       " 'keeshond': 102,\n",
       " 'kelpie': 82,\n",
       " 'kerry_blue_terrier': 7,\n",
       " 'komondor': 41,\n",
       " 'kuvasz': 30,\n",
       " 'labrador_retriever': 98,\n",
       " 'lakeland_terrier': 84,\n",
       " 'leonberg': 28,\n",
       " 'lhasa': 16,\n",
       " 'malamute': 23,\n",
       " 'malinois': 107,\n",
       " 'maltese_dog': 58,\n",
       " 'mexican_hairless': 17,\n",
       " 'miniature_pinscher': 0,\n",
       " 'miniature_poodle': 57,\n",
       " 'miniature_schnauzer': 46,\n",
       " 'newfoundland': 5,\n",
       " 'norfolk_terrier': 62,\n",
       " 'norwegian_elkhound': 79,\n",
       " 'norwich_terrier': 9,\n",
       " 'old_english_sheepdog': 48,\n",
       " 'otterhound': 73,\n",
       " 'papillon': 40,\n",
       " 'pekinese': 42,\n",
       " 'pembroke': 93,\n",
       " 'pomeranian': 53,\n",
       " 'pug': 26,\n",
       " 'redbone': 63,\n",
       " 'rhodesian_ridgeback': 66,\n",
       " 'rottweiler': 111,\n",
       " 'saint_bernard': 14,\n",
       " 'saluki': 74,\n",
       " 'samoyed': 109,\n",
       " 'schipperke': 47,\n",
       " 'scotch_terrier': 25,\n",
       " 'scottish_deerhound': 32,\n",
       " 'sealyham_terrier': 78,\n",
       " 'shetland_sheepdog': 50,\n",
       " 'shih-tzu': 80,\n",
       " 'siberian_husky': 54,\n",
       " 'silky_terrier': 76,\n",
       " 'soft-coated_wheaten_terrier': 34,\n",
       " 'staffordshire_bullterrier': 21,\n",
       " 'standard_poodle': 90,\n",
       " 'standard_schnauzer': 85,\n",
       " 'sussex_spaniel': 118,\n",
       " 'tibetan_mastiff': 105,\n",
       " 'tibetan_terrier': 91,\n",
       " 'toy_poodle': 44,\n",
       " 'toy_terrier': 97,\n",
       " 'vizsla': 72,\n",
       " 'walker_hound': 55,\n",
       " 'weimaraner': 59,\n",
       " 'welsh_springer_spaniel': 116,\n",
       " 'west_highland_white_terrier': 114,\n",
       " 'whippet': 51,\n",
       " 'wire-haired_fox_terrier': 56,\n",
       " 'yorkshire_terrier': 22}"
      ]
     },
     "execution_count": 10,
     "metadata": {},
     "output_type": "execute_result"
    }
   ],
   "source": [
    "class_to_num"
   ]
  },
  {
   "cell_type": "code",
   "execution_count": 11,
   "metadata": {},
   "outputs": [
    {
     "data": {
      "text/plain": [
       "{0: 'miniature_pinscher',\n",
       " 1: 'curly-coated_retriever',\n",
       " 2: 'american_staffordshire_terrier',\n",
       " 3: 'italian_greyhound',\n",
       " 4: 'clumber',\n",
       " 5: 'newfoundland',\n",
       " 6: 'borzoi',\n",
       " 7: 'kerry_blue_terrier',\n",
       " 8: 'bull_mastiff',\n",
       " 9: 'norwich_terrier',\n",
       " 10: 'irish_terrier',\n",
       " 11: 'chesapeake_bay_retriever',\n",
       " 12: 'flat-coated_retriever',\n",
       " 13: 'blenheim_spaniel',\n",
       " 14: 'saint_bernard',\n",
       " 15: 'briard',\n",
       " 16: 'lhasa',\n",
       " 17: 'mexican_hairless',\n",
       " 18: 'collie',\n",
       " 19: 'irish_water_spaniel',\n",
       " 20: 'dhole',\n",
       " 21: 'staffordshire_bullterrier',\n",
       " 22: 'yorkshire_terrier',\n",
       " 23: 'malamute',\n",
       " 24: 'brittany_spaniel',\n",
       " 25: 'scotch_terrier',\n",
       " 26: 'pug',\n",
       " 27: 'basset',\n",
       " 28: 'leonberg',\n",
       " 29: 'border_collie',\n",
       " 30: 'kuvasz',\n",
       " 31: 'irish_wolfhound',\n",
       " 32: 'scottish_deerhound',\n",
       " 33: 'afghan_hound',\n",
       " 34: 'soft-coated_wheaten_terrier',\n",
       " 35: 'french_bulldog',\n",
       " 36: 'australian_terrier',\n",
       " 37: 'airedale',\n",
       " 38: 'affenpinscher',\n",
       " 39: 'english_springer',\n",
       " 40: 'papillon',\n",
       " 41: 'komondor',\n",
       " 42: 'pekinese',\n",
       " 43: 'gordon_setter',\n",
       " 44: 'toy_poodle',\n",
       " 45: 'ibizan_hound',\n",
       " 46: 'miniature_schnauzer',\n",
       " 47: 'schipperke',\n",
       " 48: 'old_english_sheepdog',\n",
       " 49: 'giant_schnauzer',\n",
       " 50: 'shetland_sheepdog',\n",
       " 51: 'whippet',\n",
       " 52: 'eskimo_dog',\n",
       " 53: 'pomeranian',\n",
       " 54: 'siberian_husky',\n",
       " 55: 'walker_hound',\n",
       " 56: 'wire-haired_fox_terrier',\n",
       " 57: 'miniature_poodle',\n",
       " 58: 'maltese_dog',\n",
       " 59: 'weimaraner',\n",
       " 60: 'appenzeller',\n",
       " 61: 'irish_setter',\n",
       " 62: 'norfolk_terrier',\n",
       " 63: 'redbone',\n",
       " 64: 'doberman',\n",
       " 65: 'basenji',\n",
       " 66: 'rhodesian_ridgeback',\n",
       " 67: 'bedlington_terrier',\n",
       " 68: 'golden_retriever',\n",
       " 69: 'border_terrier',\n",
       " 70: 'chow',\n",
       " 71: 'black-and-tan_coonhound',\n",
       " 72: 'vizsla',\n",
       " 73: 'otterhound',\n",
       " 74: 'saluki',\n",
       " 75: 'greater_swiss_mountain_dog',\n",
       " 76: 'silky_terrier',\n",
       " 77: 'great_pyrenees',\n",
       " 78: 'sealyham_terrier',\n",
       " 79: 'norwegian_elkhound',\n",
       " 80: 'shih-tzu',\n",
       " 81: 'english_foxhound',\n",
       " 82: 'kelpie',\n",
       " 83: 'cairn',\n",
       " 84: 'lakeland_terrier',\n",
       " 85: 'standard_schnauzer',\n",
       " 86: 'boston_bull',\n",
       " 87: 'german_short-haired_pointer',\n",
       " 88: 'dandie_dinmont',\n",
       " 89: 'groenendael',\n",
       " 90: 'standard_poodle',\n",
       " 91: 'tibetan_terrier',\n",
       " 92: 'entlebucher',\n",
       " 93: 'pembroke',\n",
       " 94: 'chihuahua',\n",
       " 95: 'bernese_mountain_dog',\n",
       " 96: 'great_dane',\n",
       " 97: 'toy_terrier',\n",
       " 98: 'labrador_retriever',\n",
       " 99: 'japanese_spaniel',\n",
       " 100: 'bloodhound',\n",
       " 101: 'brabancon_griffon',\n",
       " 102: 'keeshond',\n",
       " 103: 'bluetick',\n",
       " 104: 'german_shepherd',\n",
       " 105: 'tibetan_mastiff',\n",
       " 106: 'bouvier_des_flandres',\n",
       " 107: 'malinois',\n",
       " 108: 'boxer',\n",
       " 109: 'samoyed',\n",
       " 110: 'african_hunting_dog',\n",
       " 111: 'rottweiler',\n",
       " 112: 'cardigan',\n",
       " 113: 'dingo',\n",
       " 114: 'west_highland_white_terrier',\n",
       " 115: 'english_setter',\n",
       " 116: 'welsh_springer_spaniel',\n",
       " 117: 'beagle',\n",
       " 118: 'sussex_spaniel',\n",
       " 119: 'cocker_spaniel'}"
      ]
     },
     "execution_count": 11,
     "metadata": {},
     "output_type": "execute_result"
    }
   ],
   "source": [
    "num_to_class"
   ]
  },
  {
   "cell_type": "markdown",
   "metadata": {},
   "source": [
    "最好是将X_train,Y_train都做成是DataFrame，这样可以直接调用to_csv<br>\n",
    "但是对于图形识别的project，这是没用的。因为CV第一步都是卷积，对3层进行卷积，而DataFrame是二维的，无法卷积。除非输入图形只有一层。<br>\n",
    "底下的操作就是如何将输入处理成DataFrame<br>\n",
    "width=300\n",
    "X_train=pd.DataFrame(np.zeros((len_train,width*width*3)),index=range(len_train))\n",
    "Y_train=pd.DataFrame(np.zeros((len_train,n_class)),columns=list(class_to_num.keys()))"
   ]
  },
  {
   "cell_type": "code",
   "execution_count": 12,
   "metadata": {},
   "outputs": [],
   "source": [
    "width=200\n",
    "X_train=np.zeros((len_train,width,width,3))\n",
    "Y_train=np.zeros((len_train,n_class))"
   ]
  },
  {
   "cell_type": "code",
   "execution_count": 13,
   "metadata": {},
   "outputs": [
    {
     "name": "stderr",
     "output_type": "stream",
     "text": [
      "100%|██████████| 10222/10222 [00:36<00:00, 282.91it/s]\n"
     ]
    }
   ],
   "source": [
    "fp_list=os.listdir(f'{path}/train')\n",
    "n=len(fp_list)\n",
    "for i in tqdm(range(n)):\n",
    "    fp=fp_list[i]\n",
    "    X_train[i]=cv2.resize(cv2.imread(f'{path}/train/{fp}'),dsize = (width, width))\n",
    "    file_name=fp[:-4]\n",
    "    breed_name=labels.loc[labels['id']==file_name]['breed']\n",
    "    breed_name=breed_name.get_values()[0]\n",
    "    Y_train[i][class_to_num[breed_name]]=1\n",
    "    #Y_train[i][class_to_num[labels['breed'][i]]] = 1"
   ]
  },
  {
   "cell_type": "code",
   "execution_count": 14,
   "metadata": {},
   "outputs": [
    {
     "name": "stdout",
     "output_type": "stream",
     "text": [
      "66b1a3eb90d750b8739cbd6e74db13cf.jpg\n",
      "66b1a3eb90d750b8739cbd6e74db13cf\n",
      "                                    id          breed\n",
      "4122  66b1a3eb90d750b8739cbd6e74db13cf  gordon_setter\n",
      "68\n",
      "[ 0.  0.  0.  0.  0.  0.  0.  0.  0.  0.  0.  0.  0.  0.  0.  0.  0.  0.\n",
      "  0.  0.  0.  0.  0.  0.  0.  0.  0.  0.  0.  0.  0.  0.  0.  0.  0.  0.\n",
      "  0.  0.  0.  0.  0.  0.  0.  0.  0.  0.  0.  0.  0.  0.  0.  0.  0.  0.\n",
      "  0.  0.  0.  0.  0.  0.  0.  0.  0.  0.  0.  0.  0.  0.  1.  0.  0.  0.\n",
      "  0.  0.  0.  0.  0.  0.  0.  0.  0.  0.  0.  0.  0.  0.  0.  0.  0.  0.\n",
      "  0.  0.  0.  0.  0.  0.  0.  0.  0.  0.  0.  0.  0.  0.  0.  0.  0.  0.\n",
      "  0.  0.  0.  0.  0.  0.  0.  0.  0.  0.  0.  0.]\n"
     ]
    }
   ],
   "source": [
    "print(os.listdir(f'{path}/train')[100])\n",
    "print(os.listdir(f'{path}/train')[100][:-4])\n",
    "print(labels.loc[labels['id']==os.listdir(f'{path}/train')[100][:-4]])\n",
    "print(class_to_num['gordon_setter'])\n",
    "print(Y_train[100])"
   ]
  },
  {
   "cell_type": "markdown",
   "metadata": {},
   "source": [
    "fp_list=os.listdir(f'{path}/train')\n",
    "n=len(fp_list)\n",
    "for i in tqdm(range(n)):\n",
    "#for fp in os.listdir(f'{path}/train'):\n",
    "    fp=fp_list[i]\n",
    "    X_train.iloc[i,:]=cv2.resize(cv2.imread(f'{path}/train/{fp}'),dsize = (width, width)).flatten()\n",
    "    file_name=fp[:-4]\n",
    "    breed_name=labels.loc[labels['id']==file_name]['breed']\n",
    "    breed_name=breed_name.get_values()[0]\n",
    "    Y_train.iloc[i,class_to_num[breed_name]]=1"
   ]
  },
  {
   "cell_type": "markdown",
   "metadata": {},
   "source": [
    "X_train.to_csv(\"X_train_23_05.csv\")"
   ]
  },
  {
   "cell_type": "markdown",
   "metadata": {},
   "source": [
    "Y_train.to_csv(\"Y_train_23_05.csv\")"
   ]
  },
  {
   "cell_type": "code",
   "execution_count": 15,
   "metadata": {},
   "outputs": [
    {
     "name": "stdout",
     "output_type": "stream",
     "text": [
      "_________________________________________________________________\n",
      "Layer (type)                 Output Shape              Param #   \n",
      "=================================================================\n",
      "input_2 (InputLayer)         (None, 300, 300, 3)       0         \n",
      "_________________________________________________________________\n",
      "resnet50 (Model)             (None, 1, 1, 2048)        23587712  \n",
      "_________________________________________________________________\n",
      "global_average_pooling2d_1 ( (None, 2048)              0         \n",
      "=================================================================\n",
      "Total params: 23,587,712\n",
      "Trainable params: 23,534,592\n",
      "Non-trainable params: 53,120\n",
      "_________________________________________________________________\n",
      "10222/10222 [==============================] - 87s 9ms/step\n",
      "_________________________________________________________________\n",
      "Layer (type)                 Output Shape              Param #   \n",
      "=================================================================\n",
      "input_3 (InputLayer)         (None, 2048)              0         \n",
      "_________________________________________________________________\n",
      "dropout_1 (Dropout)          (None, 2048)              0         \n",
      "_________________________________________________________________\n",
      "dense_1 (Dense)              (None, 120)               245880    \n",
      "=================================================================\n",
      "Total params: 245,880\n",
      "Trainable params: 245,880\n",
      "Non-trainable params: 0\n",
      "_________________________________________________________________\n",
      "Train on 9199 samples, validate on 1023 samples\n",
      "Epoch 1/50\n",
      "9199/9199 [==============================] - 2s 170us/step - loss: 3.3987 - acc: 0.2457 - val_loss: 1.4469 - val_acc: 0.6383\n",
      "Epoch 2/50\n",
      "9199/9199 [==============================] - 0s 42us/step - loss: 1.4276 - acc: 0.6002 - val_loss: 1.0810 - val_acc: 0.6960\n",
      "Epoch 3/50\n",
      "9199/9199 [==============================] - 0s 38us/step - loss: 1.0255 - acc: 0.7014 - val_loss: 0.9590 - val_acc: 0.7165\n",
      "Epoch 4/50\n",
      "9199/9199 [==============================] - 0s 37us/step - loss: 0.8160 - acc: 0.7613 - val_loss: 0.8549 - val_acc: 0.7468\n",
      "Epoch 5/50\n",
      "9199/9199 [==============================] - 0s 37us/step - loss: 0.6703 - acc: 0.7982 - val_loss: 0.8495 - val_acc: 0.7429\n",
      "Epoch 6/50\n",
      "9199/9199 [==============================] - 0s 36us/step - loss: 0.5761 - acc: 0.8309 - val_loss: 0.8287 - val_acc: 0.7605\n",
      "Epoch 7/50\n",
      "9199/9199 [==============================] - 0s 38us/step - loss: 0.4981 - acc: 0.8530 - val_loss: 0.7933 - val_acc: 0.7693\n",
      "Epoch 8/50\n",
      "9199/9199 [==============================] - 0s 38us/step - loss: 0.4440 - acc: 0.8675 - val_loss: 0.8053 - val_acc: 0.7576\n",
      "Epoch 9/50\n",
      "9199/9199 [==============================] - 0s 39us/step - loss: 0.4133 - acc: 0.8750 - val_loss: 0.7885 - val_acc: 0.7586\n",
      "Epoch 10/50\n",
      "9199/9199 [==============================] - 0s 40us/step - loss: 0.3658 - acc: 0.8905 - val_loss: 0.7960 - val_acc: 0.7586\n",
      "Epoch 11/50\n",
      "9199/9199 [==============================] - 0s 39us/step - loss: 0.3207 - acc: 0.9050 - val_loss: 0.7959 - val_acc: 0.7693\n",
      "Epoch 12/50\n",
      "9199/9199 [==============================] - 0s 39us/step - loss: 0.3089 - acc: 0.9080 - val_loss: 0.7803 - val_acc: 0.7703\n",
      "Epoch 13/50\n",
      "9199/9199 [==============================] - 0s 41us/step - loss: 0.2725 - acc: 0.9226 - val_loss: 0.8085 - val_acc: 0.7625\n",
      "Epoch 14/50\n",
      "9199/9199 [==============================] - 0s 39us/step - loss: 0.2694 - acc: 0.9216 - val_loss: 0.8042 - val_acc: 0.7507\n",
      "Epoch 15/50\n",
      "9199/9199 [==============================] - 0s 39us/step - loss: 0.2471 - acc: 0.9292 - val_loss: 0.7814 - val_acc: 0.7654\n",
      "Epoch 16/50\n",
      "9199/9199 [==============================] - 0s 39us/step - loss: 0.2233 - acc: 0.9379 - val_loss: 0.7887 - val_acc: 0.7644\n",
      "Epoch 17/50\n",
      "9199/9199 [==============================] - 0s 41us/step - loss: 0.2170 - acc: 0.9356 - val_loss: 0.7908 - val_acc: 0.7683\n",
      "Epoch 18/50\n",
      "9199/9199 [==============================] - 0s 39us/step - loss: 0.2017 - acc: 0.9468 - val_loss: 0.8065 - val_acc: 0.7693\n",
      "Epoch 19/50\n",
      "9199/9199 [==============================] - 0s 41us/step - loss: 0.1911 - acc: 0.9484 - val_loss: 0.8273 - val_acc: 0.7527\n",
      "Epoch 20/50\n",
      "9199/9199 [==============================] - 0s 40us/step - loss: 0.1865 - acc: 0.9476 - val_loss: 0.8214 - val_acc: 0.7576\n",
      "Epoch 21/50\n",
      "9199/9199 [==============================] - 0s 39us/step - loss: 0.1757 - acc: 0.9508 - val_loss: 0.8383 - val_acc: 0.7498\n",
      "Epoch 22/50\n",
      "9199/9199 [==============================] - 0s 39us/step - loss: 0.1689 - acc: 0.9542 - val_loss: 0.8271 - val_acc: 0.7517\n",
      "Epoch 23/50\n",
      "9199/9199 [==============================] - 0s 38us/step - loss: 0.1660 - acc: 0.9575 - val_loss: 0.8408 - val_acc: 0.7625\n",
      "Epoch 24/50\n",
      "9199/9199 [==============================] - 0s 39us/step - loss: 0.1510 - acc: 0.9601 - val_loss: 0.8338 - val_acc: 0.7527\n",
      "Epoch 25/50\n",
      "9199/9199 [==============================] - 0s 40us/step - loss: 0.1507 - acc: 0.9578 - val_loss: 0.8324 - val_acc: 0.7654\n",
      "Epoch 26/50\n",
      "9199/9199 [==============================] - 0s 39us/step - loss: 0.1420 - acc: 0.9604 - val_loss: 0.8258 - val_acc: 0.7625\n",
      "Epoch 27/50\n",
      "9199/9199 [==============================] - 0s 38us/step - loss: 0.1433 - acc: 0.9585 - val_loss: 0.8302 - val_acc: 0.7615\n",
      "Epoch 28/50\n",
      "9199/9199 [==============================] - 0s 40us/step - loss: 0.1327 - acc: 0.9642 - val_loss: 0.8235 - val_acc: 0.7693\n",
      "Epoch 29/50\n",
      "9199/9199 [==============================] - 0s 39us/step - loss: 0.1346 - acc: 0.9611 - val_loss: 0.8516 - val_acc: 0.7654\n",
      "Epoch 30/50\n",
      "9199/9199 [==============================] - 0s 40us/step - loss: 0.1256 - acc: 0.9655 - val_loss: 0.8235 - val_acc: 0.7664\n",
      "Epoch 31/50\n",
      "9199/9199 [==============================] - 0s 38us/step - loss: 0.1221 - acc: 0.9655 - val_loss: 0.8728 - val_acc: 0.7546\n",
      "Epoch 32/50\n",
      "9199/9199 [==============================] - 0s 39us/step - loss: 0.1169 - acc: 0.9688 - val_loss: 0.8722 - val_acc: 0.7605\n",
      "Epoch 33/50\n",
      "9199/9199 [==============================] - 0s 39us/step - loss: 0.1244 - acc: 0.9653 - val_loss: 0.8845 - val_acc: 0.7566\n",
      "Epoch 34/50\n",
      "9199/9199 [==============================] - 0s 38us/step - loss: 0.1104 - acc: 0.9697 - val_loss: 0.8865 - val_acc: 0.7468\n",
      "Epoch 35/50\n",
      "9199/9199 [==============================] - 0s 40us/step - loss: 0.1110 - acc: 0.9686 - val_loss: 0.8835 - val_acc: 0.7566\n",
      "Epoch 36/50\n",
      "9199/9199 [==============================] - 0s 39us/step - loss: 0.1119 - acc: 0.9690 - val_loss: 0.9138 - val_acc: 0.7507\n",
      "Epoch 37/50\n",
      "9199/9199 [==============================] - 0s 40us/step - loss: 0.1033 - acc: 0.9711 - val_loss: 0.8714 - val_acc: 0.7664\n",
      "Epoch 38/50\n",
      "9199/9199 [==============================] - 0s 39us/step - loss: 0.1006 - acc: 0.9691 - val_loss: 0.8641 - val_acc: 0.7722\n",
      "Epoch 39/50\n",
      "9199/9199 [==============================] - 0s 39us/step - loss: 0.0991 - acc: 0.9749 - val_loss: 0.9120 - val_acc: 0.7527\n",
      "Epoch 40/50\n",
      "9199/9199 [==============================] - 0s 40us/step - loss: 0.1057 - acc: 0.9700 - val_loss: 0.8970 - val_acc: 0.7527\n",
      "Epoch 41/50\n",
      "9199/9199 [==============================] - 0s 39us/step - loss: 0.0968 - acc: 0.9734 - val_loss: 0.8801 - val_acc: 0.7625\n",
      "Epoch 42/50\n",
      "9199/9199 [==============================] - 0s 40us/step - loss: 0.0987 - acc: 0.9721 - val_loss: 0.8751 - val_acc: 0.7595\n",
      "Epoch 43/50\n",
      "9199/9199 [==============================] - 0s 41us/step - loss: 0.0911 - acc: 0.9751 - val_loss: 0.8957 - val_acc: 0.7674\n",
      "Epoch 44/50\n",
      "9199/9199 [==============================] - 0s 38us/step - loss: 0.0918 - acc: 0.9756 - val_loss: 0.8954 - val_acc: 0.7595\n",
      "Epoch 45/50\n",
      "9199/9199 [==============================] - 0s 39us/step - loss: 0.0979 - acc: 0.9695 - val_loss: 0.9188 - val_acc: 0.7595\n",
      "Epoch 46/50\n",
      "9199/9199 [==============================] - 0s 39us/step - loss: 0.0981 - acc: 0.9696 - val_loss: 0.9225 - val_acc: 0.7517\n",
      "Epoch 47/50\n",
      "9199/9199 [==============================] - 0s 40us/step - loss: 0.0935 - acc: 0.9737 - val_loss: 0.9049 - val_acc: 0.7566\n",
      "Epoch 48/50\n",
      "9199/9199 [==============================] - 0s 42us/step - loss: 0.0888 - acc: 0.9750 - val_loss: 0.9127 - val_acc: 0.7664\n",
      "Epoch 49/50\n",
      "9199/9199 [==============================] - 0s 40us/step - loss: 0.0901 - acc: 0.9734 - val_loss: 0.9634 - val_acc: 0.7410\n",
      "Epoch 50/50\n",
      "9199/9199 [==============================] - 0s 39us/step - loss: 0.0832 - acc: 0.9755 - val_loss: 0.9782 - val_acc: 0.7458\n"
     ]
    }
   ],
   "source": [
    "#this code from kaggle which runs very fast\n",
    "from keras.applications import resnet50\n",
    "from keras.models import *\n",
    "from keras.layers import *\n",
    "#from keras.preprocessing import image\n",
    "#from keras.applications.resnet50 import preprocess_input, decode_predictions\n",
    "resnet_model = resnet50.ResNet50(include_top = False, weights='imagenet', input_shape = (300, 300, 3))\n",
    "    \n",
    "inputs = Input((width, width, 3))\n",
    "x = inputs\n",
    "x = resnet_model(x)\n",
    "x = GlobalAveragePooling2D()(x)\n",
    "resnet_model = Model(inputs, x)\n",
    "resnet_model.summary()\n",
    "\n",
    "features = resnet_model.predict(X_train, batch_size=64, verbose=1)\n",
    "\n",
    "\n",
    "inputs = Input(features.shape[1:])\n",
    "x = inputs\n",
    "x = Dropout(0.5)(x)\n",
    "x = Dense(n_class, activation='softmax')(x)\n",
    "model = Model(inputs, x)\n",
    "model.compile(optimizer='adam',\n",
    "              loss='categorical_crossentropy',\n",
    "              metrics=['accuracy'])\n",
    "\n",
    "model.summary()\n",
    "\n",
    "h = model.fit(features, Y_train, batch_size=128, epochs=50, validation_split=0.1)"
   ]
  },
  {
   "cell_type": "code",
   "execution_count": 14,
   "metadata": {},
   "outputs": [],
   "source": [
    "from keras.applications import resnet50"
   ]
  },
  {
   "cell_type": "code",
   "execution_count": 15,
   "metadata": {},
   "outputs": [],
   "source": [
    "??resnet50"
   ]
  },
  {
   "cell_type": "code",
   "execution_count": null,
   "metadata": {},
   "outputs": [
    {
     "name": "stdout",
     "output_type": "stream",
     "text": [
      "_________________________________________________________________\n",
      "Layer (type)                 Output Shape              Param #   \n",
      "=================================================================\n",
      "resnet50 (Model)             (None, 1, 1, 2048)        23587712  \n",
      "=================================================================\n",
      "Total params: 23,587,712\n",
      "Trainable params: 23,534,592\n",
      "Non-trainable params: 53,120\n",
      "_________________________________________________________________\n",
      "_________________________________________________________________\n",
      "Layer (type)                 Output Shape              Param #   \n",
      "=================================================================\n",
      "resnet50 (Model)             (None, 1, 1, 2048)        23587712  \n",
      "_________________________________________________________________\n",
      "flatten_1 (Flatten)          (None, 2048)              0         \n",
      "_________________________________________________________________\n",
      "dense_1 (Dense)              (None, 256)               524544    \n",
      "_________________________________________________________________\n",
      "dropout_1 (Dropout)          (None, 256)               0         \n",
      "_________________________________________________________________\n",
      "dense_2 (Dense)              (None, 120)               30840     \n",
      "=================================================================\n",
      "Total params: 24,143,096\n",
      "Trainable params: 24,089,976\n",
      "Non-trainable params: 53,120\n",
      "_________________________________________________________________\n",
      "WARNING:tensorflow:Variable *= will be deprecated. Use variable.assign_mul if you want assignment to the variable value or 'x = x * y' if you want a new python Tensor object.\n",
      "Train on 9199 samples, validate on 1023 samples\n",
      "Epoch 1/50\n",
      "1408/9199 [===>..........................] - ETA: 2:06 - loss: 10.1849 - acc: 0.0071"
     ]
    }
   ],
   "source": [
    "from keras.applications import resnet50\n",
    "model=Sequential()\n",
    "model.add(resnet50.ResNet50(include_top = False, weights='imagenet', input_shape = (200,200,3)))\n",
    "model.summary()\n",
    "model.add(Flatten())\n",
    "model.add(Dense(256,activation='relu'))\n",
    "model.add(Dropout(0.5))\n",
    "model.add(Dense(n_class,activation='relu'))\n",
    "model.summary()\n",
    "sgd=SGD(lr=0.01,decay=1e-6,momentum=0.9,nesterov=True)\n",
    "model.compile(loss='categorical_crossentropy',optimizer=sgd,metrics=['accuracy'])\n",
    "\n",
    "model.fit(X_train,Y_train,batch_size=128,epochs=50,validation_split=0.1)"
   ]
  },
  {
   "cell_type": "code",
   "execution_count": 14,
   "metadata": {},
   "outputs": [
    {
     "name": "stdout",
     "output_type": "stream",
     "text": [
      "WARNING:tensorflow:Variable *= will be deprecated. Use variable.assign_mul if you want assignment to the variable value or 'x = x * y' if you want a new python Tensor object.\n",
      "Train on 9199 samples, validate on 1023 samples\n",
      "Epoch 1/50\n",
      "9199/9199 [==============================] - 38s 4ms/step - loss: 7.0599 - acc: 0.0064 - val_loss: 5.5462 - val_acc: 0.0059\n",
      "Epoch 2/50\n",
      "9199/9199 [==============================] - 29s 3ms/step - loss: 5.2640 - acc: 0.0071 - val_loss: 5.1286 - val_acc: 0.0059\n",
      "Epoch 3/50\n",
      "9199/9199 [==============================] - 29s 3ms/step - loss: 5.0982 - acc: 0.0073 - val_loss: 5.0882 - val_acc: 0.0059\n",
      "Epoch 4/50\n",
      "9199/9199 [==============================] - 30s 3ms/step - loss: 5.0289 - acc: 0.0078 - val_loss: 4.9714 - val_acc: 0.0059\n",
      "Epoch 5/50\n",
      "9199/9199 [==============================] - 30s 3ms/step - loss: 4.9692 - acc: 0.0076 - val_loss: 4.9527 - val_acc: 0.0059\n",
      "Epoch 6/50\n",
      "9199/9199 [==============================] - 29s 3ms/step - loss: 4.9534 - acc: 0.0078 - val_loss: 4.9388 - val_acc: 0.0059\n",
      "Epoch 7/50\n",
      "9199/9199 [==============================] - 30s 3ms/step - loss: 4.9395 - acc: 0.0074 - val_loss: 4.9267 - val_acc: 0.0059\n",
      "Epoch 8/50\n",
      "9199/9199 [==============================] - 30s 3ms/step - loss: 4.9334 - acc: 0.0065 - val_loss: 4.9410 - val_acc: 0.0059\n",
      "Epoch 9/50\n",
      "9199/9199 [==============================] - 30s 3ms/step - loss: 4.9445 - acc: 0.0082 - val_loss: 4.9322 - val_acc: 0.0059\n",
      "Epoch 10/50\n",
      "9199/9199 [==============================] - 29s 3ms/step - loss: 4.9330 - acc: 0.0074 - val_loss: 4.9232 - val_acc: 0.0059\n",
      "Epoch 11/50\n",
      "9199/9199 [==============================] - 30s 3ms/step - loss: 4.9253 - acc: 0.0067 - val_loss: 4.9157 - val_acc: 0.0059\n",
      "Epoch 12/50\n",
      "9199/9199 [==============================] - 30s 3ms/step - loss: 4.9166 - acc: 0.0075 - val_loss: 4.9089 - val_acc: 0.0059\n",
      "Epoch 13/50\n",
      "9199/9199 [==============================] - 29s 3ms/step - loss: 4.9089 - acc: 0.0068 - val_loss: 4.9026 - val_acc: 0.0059\n",
      "Epoch 14/50\n",
      "2560/9199 [=======>......................] - ETA: 20s - loss: 4.8964 - acc: 0.0082"
     ]
    },
    {
     "ename": "KeyboardInterrupt",
     "evalue": "",
     "output_type": "error",
     "traceback": [
      "\u001b[0;31m---------------------------------------------------------------------------\u001b[0m",
      "\u001b[0;31mKeyboardInterrupt\u001b[0m                         Traceback (most recent call last)",
      "\u001b[0;32m<ipython-input-14-eaf44cd63425>\u001b[0m in \u001b[0;36m<module>\u001b[0;34m()\u001b[0m\n\u001b[1;32m     18\u001b[0m \u001b[0mmodel\u001b[0m\u001b[0;34m.\u001b[0m\u001b[0mcompile\u001b[0m\u001b[0;34m(\u001b[0m\u001b[0mloss\u001b[0m\u001b[0;34m=\u001b[0m\u001b[0;34m'categorical_crossentropy'\u001b[0m\u001b[0;34m,\u001b[0m\u001b[0moptimizer\u001b[0m\u001b[0;34m=\u001b[0m\u001b[0msgd\u001b[0m\u001b[0;34m,\u001b[0m\u001b[0mmetrics\u001b[0m\u001b[0;34m=\u001b[0m\u001b[0;34m[\u001b[0m\u001b[0;34m'accuracy'\u001b[0m\u001b[0;34m]\u001b[0m\u001b[0;34m)\u001b[0m\u001b[0;34m\u001b[0m\u001b[0m\n\u001b[1;32m     19\u001b[0m \u001b[0;34m\u001b[0m\u001b[0m\n\u001b[0;32m---> 20\u001b[0;31m \u001b[0mmodel\u001b[0m\u001b[0;34m.\u001b[0m\u001b[0mfit\u001b[0m\u001b[0;34m(\u001b[0m\u001b[0mX_train\u001b[0m\u001b[0;34m,\u001b[0m\u001b[0mY_train\u001b[0m\u001b[0;34m,\u001b[0m\u001b[0mbatch_size\u001b[0m\u001b[0;34m=\u001b[0m\u001b[0;36m128\u001b[0m\u001b[0;34m,\u001b[0m\u001b[0mepochs\u001b[0m\u001b[0;34m=\u001b[0m\u001b[0;36m50\u001b[0m\u001b[0;34m,\u001b[0m\u001b[0mvalidation_split\u001b[0m\u001b[0;34m=\u001b[0m\u001b[0;36m0.1\u001b[0m\u001b[0;34m)\u001b[0m\u001b[0;34m\u001b[0m\u001b[0m\n\u001b[0m",
      "\u001b[0;32m~/anaconda3/envs/fastai/lib/python3.6/site-packages/keras/models.py\u001b[0m in \u001b[0;36mfit\u001b[0;34m(self, x, y, batch_size, epochs, verbose, callbacks, validation_split, validation_data, shuffle, class_weight, sample_weight, initial_epoch, steps_per_epoch, validation_steps, **kwargs)\u001b[0m\n\u001b[1;32m   1000\u001b[0m                               \u001b[0minitial_epoch\u001b[0m\u001b[0;34m=\u001b[0m\u001b[0minitial_epoch\u001b[0m\u001b[0;34m,\u001b[0m\u001b[0;34m\u001b[0m\u001b[0m\n\u001b[1;32m   1001\u001b[0m                               \u001b[0msteps_per_epoch\u001b[0m\u001b[0;34m=\u001b[0m\u001b[0msteps_per_epoch\u001b[0m\u001b[0;34m,\u001b[0m\u001b[0;34m\u001b[0m\u001b[0m\n\u001b[0;32m-> 1002\u001b[0;31m                               validation_steps=validation_steps)\n\u001b[0m\u001b[1;32m   1003\u001b[0m \u001b[0;34m\u001b[0m\u001b[0m\n\u001b[1;32m   1004\u001b[0m     def evaluate(self, x=None, y=None,\n",
      "\u001b[0;32m~/anaconda3/envs/fastai/lib/python3.6/site-packages/keras/engine/training.py\u001b[0m in \u001b[0;36mfit\u001b[0;34m(self, x, y, batch_size, epochs, verbose, callbacks, validation_split, validation_data, shuffle, class_weight, sample_weight, initial_epoch, steps_per_epoch, validation_steps, **kwargs)\u001b[0m\n\u001b[1;32m   1703\u001b[0m                               \u001b[0minitial_epoch\u001b[0m\u001b[0;34m=\u001b[0m\u001b[0minitial_epoch\u001b[0m\u001b[0;34m,\u001b[0m\u001b[0;34m\u001b[0m\u001b[0m\n\u001b[1;32m   1704\u001b[0m                               \u001b[0msteps_per_epoch\u001b[0m\u001b[0;34m=\u001b[0m\u001b[0msteps_per_epoch\u001b[0m\u001b[0;34m,\u001b[0m\u001b[0;34m\u001b[0m\u001b[0m\n\u001b[0;32m-> 1705\u001b[0;31m                               validation_steps=validation_steps)\n\u001b[0m\u001b[1;32m   1706\u001b[0m \u001b[0;34m\u001b[0m\u001b[0m\n\u001b[1;32m   1707\u001b[0m     def evaluate(self, x=None, y=None,\n",
      "\u001b[0;32m~/anaconda3/envs/fastai/lib/python3.6/site-packages/keras/engine/training.py\u001b[0m in \u001b[0;36m_fit_loop\u001b[0;34m(self, f, ins, out_labels, batch_size, epochs, verbose, callbacks, val_f, val_ins, shuffle, callback_metrics, initial_epoch, steps_per_epoch, validation_steps)\u001b[0m\n\u001b[1;32m   1234\u001b[0m                         \u001b[0mins_batch\u001b[0m\u001b[0;34m[\u001b[0m\u001b[0mi\u001b[0m\u001b[0;34m]\u001b[0m \u001b[0;34m=\u001b[0m \u001b[0mins_batch\u001b[0m\u001b[0;34m[\u001b[0m\u001b[0mi\u001b[0m\u001b[0;34m]\u001b[0m\u001b[0;34m.\u001b[0m\u001b[0mtoarray\u001b[0m\u001b[0;34m(\u001b[0m\u001b[0;34m)\u001b[0m\u001b[0;34m\u001b[0m\u001b[0m\n\u001b[1;32m   1235\u001b[0m \u001b[0;34m\u001b[0m\u001b[0m\n\u001b[0;32m-> 1236\u001b[0;31m                     \u001b[0mouts\u001b[0m \u001b[0;34m=\u001b[0m \u001b[0mf\u001b[0m\u001b[0;34m(\u001b[0m\u001b[0mins_batch\u001b[0m\u001b[0;34m)\u001b[0m\u001b[0;34m\u001b[0m\u001b[0m\n\u001b[0m\u001b[1;32m   1237\u001b[0m                     \u001b[0;32mif\u001b[0m \u001b[0;32mnot\u001b[0m \u001b[0misinstance\u001b[0m\u001b[0;34m(\u001b[0m\u001b[0mouts\u001b[0m\u001b[0;34m,\u001b[0m \u001b[0mlist\u001b[0m\u001b[0;34m)\u001b[0m\u001b[0;34m:\u001b[0m\u001b[0;34m\u001b[0m\u001b[0m\n\u001b[1;32m   1238\u001b[0m                         \u001b[0mouts\u001b[0m \u001b[0;34m=\u001b[0m \u001b[0;34m[\u001b[0m\u001b[0mouts\u001b[0m\u001b[0;34m]\u001b[0m\u001b[0;34m\u001b[0m\u001b[0m\n",
      "\u001b[0;32m~/anaconda3/envs/fastai/lib/python3.6/site-packages/keras/backend/tensorflow_backend.py\u001b[0m in \u001b[0;36m__call__\u001b[0;34m(self, inputs)\u001b[0m\n\u001b[1;32m   2480\u001b[0m         \u001b[0msession\u001b[0m \u001b[0;34m=\u001b[0m \u001b[0mget_session\u001b[0m\u001b[0;34m(\u001b[0m\u001b[0;34m)\u001b[0m\u001b[0;34m\u001b[0m\u001b[0m\n\u001b[1;32m   2481\u001b[0m         updated = session.run(fetches=fetches, feed_dict=feed_dict,\n\u001b[0;32m-> 2482\u001b[0;31m                               **self.session_kwargs)\n\u001b[0m\u001b[1;32m   2483\u001b[0m         \u001b[0;32mreturn\u001b[0m \u001b[0mupdated\u001b[0m\u001b[0;34m[\u001b[0m\u001b[0;34m:\u001b[0m\u001b[0mlen\u001b[0m\u001b[0;34m(\u001b[0m\u001b[0mself\u001b[0m\u001b[0;34m.\u001b[0m\u001b[0moutputs\u001b[0m\u001b[0;34m)\u001b[0m\u001b[0;34m]\u001b[0m\u001b[0;34m\u001b[0m\u001b[0m\n\u001b[1;32m   2484\u001b[0m \u001b[0;34m\u001b[0m\u001b[0m\n",
      "\u001b[0;32m~/anaconda3/envs/fastai/lib/python3.6/site-packages/tensorflow/python/client/session.py\u001b[0m in \u001b[0;36mrun\u001b[0;34m(self, fetches, feed_dict, options, run_metadata)\u001b[0m\n\u001b[1;32m    903\u001b[0m     \u001b[0;32mtry\u001b[0m\u001b[0;34m:\u001b[0m\u001b[0;34m\u001b[0m\u001b[0m\n\u001b[1;32m    904\u001b[0m       result = self._run(None, fetches, feed_dict, options_ptr,\n\u001b[0;32m--> 905\u001b[0;31m                          run_metadata_ptr)\n\u001b[0m\u001b[1;32m    906\u001b[0m       \u001b[0;32mif\u001b[0m \u001b[0mrun_metadata\u001b[0m\u001b[0;34m:\u001b[0m\u001b[0;34m\u001b[0m\u001b[0m\n\u001b[1;32m    907\u001b[0m         \u001b[0mproto_data\u001b[0m \u001b[0;34m=\u001b[0m \u001b[0mtf_session\u001b[0m\u001b[0;34m.\u001b[0m\u001b[0mTF_GetBuffer\u001b[0m\u001b[0;34m(\u001b[0m\u001b[0mrun_metadata_ptr\u001b[0m\u001b[0;34m)\u001b[0m\u001b[0;34m\u001b[0m\u001b[0m\n",
      "\u001b[0;32m~/anaconda3/envs/fastai/lib/python3.6/site-packages/tensorflow/python/client/session.py\u001b[0m in \u001b[0;36m_run\u001b[0;34m(self, handle, fetches, feed_dict, options, run_metadata)\u001b[0m\n\u001b[1;32m   1138\u001b[0m     \u001b[0;32mif\u001b[0m \u001b[0mfinal_fetches\u001b[0m \u001b[0;32mor\u001b[0m \u001b[0mfinal_targets\u001b[0m \u001b[0;32mor\u001b[0m \u001b[0;34m(\u001b[0m\u001b[0mhandle\u001b[0m \u001b[0;32mand\u001b[0m \u001b[0mfeed_dict_tensor\u001b[0m\u001b[0;34m)\u001b[0m\u001b[0;34m:\u001b[0m\u001b[0;34m\u001b[0m\u001b[0m\n\u001b[1;32m   1139\u001b[0m       results = self._do_run(handle, final_targets, final_fetches,\n\u001b[0;32m-> 1140\u001b[0;31m                              feed_dict_tensor, options, run_metadata)\n\u001b[0m\u001b[1;32m   1141\u001b[0m     \u001b[0;32melse\u001b[0m\u001b[0;34m:\u001b[0m\u001b[0;34m\u001b[0m\u001b[0m\n\u001b[1;32m   1142\u001b[0m       \u001b[0mresults\u001b[0m \u001b[0;34m=\u001b[0m \u001b[0;34m[\u001b[0m\u001b[0;34m]\u001b[0m\u001b[0;34m\u001b[0m\u001b[0m\n",
      "\u001b[0;32m~/anaconda3/envs/fastai/lib/python3.6/site-packages/tensorflow/python/client/session.py\u001b[0m in \u001b[0;36m_do_run\u001b[0;34m(self, handle, target_list, fetch_list, feed_dict, options, run_metadata)\u001b[0m\n\u001b[1;32m   1319\u001b[0m     \u001b[0;32mif\u001b[0m \u001b[0mhandle\u001b[0m \u001b[0;32mis\u001b[0m \u001b[0;32mNone\u001b[0m\u001b[0;34m:\u001b[0m\u001b[0;34m\u001b[0m\u001b[0m\n\u001b[1;32m   1320\u001b[0m       return self._do_call(_run_fn, feeds, fetches, targets, options,\n\u001b[0;32m-> 1321\u001b[0;31m                            run_metadata)\n\u001b[0m\u001b[1;32m   1322\u001b[0m     \u001b[0;32melse\u001b[0m\u001b[0;34m:\u001b[0m\u001b[0;34m\u001b[0m\u001b[0m\n\u001b[1;32m   1323\u001b[0m       \u001b[0;32mreturn\u001b[0m \u001b[0mself\u001b[0m\u001b[0;34m.\u001b[0m\u001b[0m_do_call\u001b[0m\u001b[0;34m(\u001b[0m\u001b[0m_prun_fn\u001b[0m\u001b[0;34m,\u001b[0m \u001b[0mhandle\u001b[0m\u001b[0;34m,\u001b[0m \u001b[0mfeeds\u001b[0m\u001b[0;34m,\u001b[0m \u001b[0mfetches\u001b[0m\u001b[0;34m)\u001b[0m\u001b[0;34m\u001b[0m\u001b[0m\n",
      "\u001b[0;32m~/anaconda3/envs/fastai/lib/python3.6/site-packages/tensorflow/python/client/session.py\u001b[0m in \u001b[0;36m_do_call\u001b[0;34m(self, fn, *args)\u001b[0m\n\u001b[1;32m   1325\u001b[0m   \u001b[0;32mdef\u001b[0m \u001b[0m_do_call\u001b[0m\u001b[0;34m(\u001b[0m\u001b[0mself\u001b[0m\u001b[0;34m,\u001b[0m \u001b[0mfn\u001b[0m\u001b[0;34m,\u001b[0m \u001b[0;34m*\u001b[0m\u001b[0margs\u001b[0m\u001b[0;34m)\u001b[0m\u001b[0;34m:\u001b[0m\u001b[0;34m\u001b[0m\u001b[0m\n\u001b[1;32m   1326\u001b[0m     \u001b[0;32mtry\u001b[0m\u001b[0;34m:\u001b[0m\u001b[0;34m\u001b[0m\u001b[0m\n\u001b[0;32m-> 1327\u001b[0;31m       \u001b[0;32mreturn\u001b[0m \u001b[0mfn\u001b[0m\u001b[0;34m(\u001b[0m\u001b[0;34m*\u001b[0m\u001b[0margs\u001b[0m\u001b[0;34m)\u001b[0m\u001b[0;34m\u001b[0m\u001b[0m\n\u001b[0m\u001b[1;32m   1328\u001b[0m     \u001b[0;32mexcept\u001b[0m \u001b[0merrors\u001b[0m\u001b[0;34m.\u001b[0m\u001b[0mOpError\u001b[0m \u001b[0;32mas\u001b[0m \u001b[0me\u001b[0m\u001b[0;34m:\u001b[0m\u001b[0;34m\u001b[0m\u001b[0m\n\u001b[1;32m   1329\u001b[0m       \u001b[0mmessage\u001b[0m \u001b[0;34m=\u001b[0m \u001b[0mcompat\u001b[0m\u001b[0;34m.\u001b[0m\u001b[0mas_text\u001b[0m\u001b[0;34m(\u001b[0m\u001b[0me\u001b[0m\u001b[0;34m.\u001b[0m\u001b[0mmessage\u001b[0m\u001b[0;34m)\u001b[0m\u001b[0;34m\u001b[0m\u001b[0m\n",
      "\u001b[0;32m~/anaconda3/envs/fastai/lib/python3.6/site-packages/tensorflow/python/client/session.py\u001b[0m in \u001b[0;36m_run_fn\u001b[0;34m(feed_dict, fetch_list, target_list, options, run_metadata)\u001b[0m\n\u001b[1;32m   1310\u001b[0m       \u001b[0mself\u001b[0m\u001b[0;34m.\u001b[0m\u001b[0m_extend_graph\u001b[0m\u001b[0;34m(\u001b[0m\u001b[0;34m)\u001b[0m\u001b[0;34m\u001b[0m\u001b[0m\n\u001b[1;32m   1311\u001b[0m       return self._call_tf_sessionrun(\n\u001b[0;32m-> 1312\u001b[0;31m           options, feed_dict, fetch_list, target_list, run_metadata)\n\u001b[0m\u001b[1;32m   1313\u001b[0m \u001b[0;34m\u001b[0m\u001b[0m\n\u001b[1;32m   1314\u001b[0m     \u001b[0;32mdef\u001b[0m \u001b[0m_prun_fn\u001b[0m\u001b[0;34m(\u001b[0m\u001b[0mhandle\u001b[0m\u001b[0;34m,\u001b[0m \u001b[0mfeed_dict\u001b[0m\u001b[0;34m,\u001b[0m \u001b[0mfetch_list\u001b[0m\u001b[0;34m)\u001b[0m\u001b[0;34m:\u001b[0m\u001b[0;34m\u001b[0m\u001b[0m\n",
      "\u001b[0;32m~/anaconda3/envs/fastai/lib/python3.6/site-packages/tensorflow/python/client/session.py\u001b[0m in \u001b[0;36m_call_tf_sessionrun\u001b[0;34m(self, options, feed_dict, fetch_list, target_list, run_metadata)\u001b[0m\n\u001b[1;32m   1418\u001b[0m         return tf_session.TF_Run(\n\u001b[1;32m   1419\u001b[0m             \u001b[0mself\u001b[0m\u001b[0;34m.\u001b[0m\u001b[0m_session\u001b[0m\u001b[0;34m,\u001b[0m \u001b[0moptions\u001b[0m\u001b[0;34m,\u001b[0m \u001b[0mfeed_dict\u001b[0m\u001b[0;34m,\u001b[0m \u001b[0mfetch_list\u001b[0m\u001b[0;34m,\u001b[0m \u001b[0mtarget_list\u001b[0m\u001b[0;34m,\u001b[0m\u001b[0;34m\u001b[0m\u001b[0m\n\u001b[0;32m-> 1420\u001b[0;31m             status, run_metadata)\n\u001b[0m\u001b[1;32m   1421\u001b[0m \u001b[0;34m\u001b[0m\u001b[0m\n\u001b[1;32m   1422\u001b[0m   \u001b[0;32mdef\u001b[0m \u001b[0m_call_tf_sessionprun\u001b[0m\u001b[0;34m(\u001b[0m\u001b[0mself\u001b[0m\u001b[0;34m,\u001b[0m \u001b[0mhandle\u001b[0m\u001b[0;34m,\u001b[0m \u001b[0mfeed_dict\u001b[0m\u001b[0;34m,\u001b[0m \u001b[0mfetch_list\u001b[0m\u001b[0;34m)\u001b[0m\u001b[0;34m:\u001b[0m\u001b[0;34m\u001b[0m\u001b[0m\n",
      "\u001b[0;31mKeyboardInterrupt\u001b[0m: "
     ]
    }
   ],
   "source": [
    "model=Sequential()\n",
    "model.add(Conv2D(32,(3,3),activation='relu',input_shape=(width,width,3)))\n",
    "model.add(Conv2D(32,(3,3),activation='relu'))\n",
    "model.add(MaxPooling2D(pool_size=(2,2)))\n",
    "model.add(Dropout(0.25))\n",
    "\n",
    "model.add(Conv2D(64,(3,3),activation='relu'))\n",
    "model.add(Conv2D(64,(3,3),activation='relu'))\n",
    "model.add(MaxPooling2D(pool_size=(2,2)))\n",
    "model.add(Dropout(0.25))\n",
    "\n",
    "model.add(Flatten())\n",
    "model.add(Dense(256,activation='relu'))\n",
    "model.add(Dropout(0.5))\n",
    "model.add(Dense(n_class,activation='relu'))\n",
    "\n",
    "sgd=SGD(lr=0.01,decay=1e-6,momentum=0.9,nesterov=True)\n",
    "model.compile(loss='categorical_crossentropy',optimizer=sgd,metrics=['accuracy'])\n",
    "\n",
    "model.fit(X_train,Y_train,batch_size=128,epochs=50,validation_split=0.1)"
   ]
  },
  {
   "cell_type": "code",
   "execution_count": null,
   "metadata": {},
   "outputs": [],
   "source": [
    "Y_test = model.predict(X_test, batch_size=128)"
   ]
  }
 ],
 "metadata": {
  "kernelspec": {
   "display_name": "Python 3",
   "language": "python",
   "name": "python3"
  },
  "language_info": {
   "codemirror_mode": {
    "name": "ipython",
    "version": 3
   },
   "file_extension": ".py",
   "mimetype": "text/x-python",
   "name": "python",
   "nbconvert_exporter": "python",
   "pygments_lexer": "ipython3",
   "version": "3.6.4"
  }
 },
 "nbformat": 4,
 "nbformat_minor": 2
}
